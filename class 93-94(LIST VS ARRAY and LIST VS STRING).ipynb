{
 "cells": [
  {
   "cell_type": "code",
   "execution_count": null,
   "id": "e7d4dd4f",
   "metadata": {},
   "outputs": [],
   "source": [
    "#list vs array"
   ]
  },
  {
   "cell_type": "code",
   "execution_count": null,
   "id": "5dcdd124",
   "metadata": {},
   "outputs": [],
   "source": [
    "#list vs string\n",
    "#strings are immutable\n",
    "#lists are mutable"
   ]
  },
  {
   "cell_type": "code",
   "execution_count": 2,
   "id": "9ea98fb3",
   "metadata": {},
   "outputs": [
    {
     "name": "stdout",
     "output_type": "stream",
     "text": [
      "strings\n"
     ]
    }
   ],
   "source": [
    "s='strings'\n",
    "s.title()\n",
    "print(s)"
   ]
  },
  {
   "cell_type": "code",
   "execution_count": 3,
   "id": "5b5faa8f",
   "metadata": {},
   "outputs": [
    {
     "name": "stdout",
     "output_type": "stream",
     "text": [
      "Strings\n"
     ]
    }
   ],
   "source": [
    "s='strings'\n",
    "t=s.title()\n",
    "print(t)"
   ]
  },
  {
   "cell_type": "code",
   "execution_count": 4,
   "id": "a10c15cd",
   "metadata": {},
   "outputs": [
    {
     "name": "stdout",
     "output_type": "stream",
     "text": [
      "['word1', 'word2']\n"
     ]
    }
   ],
   "source": [
    "l=['word1','word2','word3']\n",
    "l.pop()\n",
    "print(l)"
   ]
  },
  {
   "cell_type": "code",
   "execution_count": 6,
   "id": "d940ea96",
   "metadata": {},
   "outputs": [
    {
     "name": "stdout",
     "output_type": "stream",
     "text": [
      "['word1', 'word2', 'word3', 'word4']\n"
     ]
    }
   ],
   "source": [
    "l=['word1','word2','word3']\n",
    "l.append('word4')\n",
    "print(l)"
   ]
  },
  {
   "cell_type": "code",
   "execution_count": null,
   "id": "efe30926",
   "metadata": {},
   "outputs": [],
   "source": []
  },
  {
   "cell_type": "code",
   "execution_count": null,
   "id": "d1ee5cac",
   "metadata": {},
   "outputs": [],
   "source": []
  },
  {
   "cell_type": "code",
   "execution_count": null,
   "id": "a8375eea",
   "metadata": {},
   "outputs": [],
   "source": []
  }
 ],
 "metadata": {
  "kernelspec": {
   "display_name": "Python 3 (ipykernel)",
   "language": "python",
   "name": "python3"
  },
  "language_info": {
   "codemirror_mode": {
    "name": "ipython",
    "version": 3
   },
   "file_extension": ".py",
   "mimetype": "text/x-python",
   "name": "python",
   "nbconvert_exporter": "python",
   "pygments_lexer": "ipython3",
   "version": "3.9.13"
  }
 },
 "nbformat": 4,
 "nbformat_minor": 5
}
