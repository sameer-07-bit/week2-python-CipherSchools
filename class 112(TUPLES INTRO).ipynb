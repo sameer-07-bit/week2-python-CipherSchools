{
 "cells": [
  {
   "cell_type": "code",
   "execution_count": null,
   "id": "ab24cce0",
   "metadata": {},
   "outputs": [],
   "source": [
    "#tuple data structure\n",
    "# tuple can store any data type\n",
    "# most important tuples are immutable, # data inside tuple\n",
    "#once tuple is created you can't update\n",
    "example =('one', 'two', 'three') \n",
    "#no append, no insert, no pop, no remove"
   ]
  },
  {
   "cell_type": "code",
   "execution_count": null,
   "id": "a3fbe14b",
   "metadata": {},
   "outputs": [],
   "source": [
    "#METHODS\n",
    "#COUNT,INDEX,\n",
    "#LENGTH\n"
   ]
  },
  {
   "cell_type": "code",
   "execution_count": 1,
   "id": "ce4c1468",
   "metadata": {},
   "outputs": [
    {
     "name": "stdout",
     "output_type": "stream",
     "text": [
      "('one', 'three')\n"
     ]
    }
   ],
   "source": [
    "example =('one', 'two', 'three') \n",
    "print(example[::2])"
   ]
  },
  {
   "cell_type": "code",
   "execution_count": null,
   "id": "71b61663",
   "metadata": {},
   "outputs": [],
   "source": []
  },
  {
   "cell_type": "code",
   "execution_count": null,
   "id": "ee7336d7",
   "metadata": {},
   "outputs": [],
   "source": []
  },
  {
   "cell_type": "code",
   "execution_count": null,
   "id": "2a143a80",
   "metadata": {},
   "outputs": [],
   "source": []
  }
 ],
 "metadata": {
  "kernelspec": {
   "display_name": "Python 3 (ipykernel)",
   "language": "python",
   "name": "python3"
  },
  "language_info": {
   "codemirror_mode": {
    "name": "ipython",
    "version": 3
   },
   "file_extension": ".py",
   "mimetype": "text/x-python",
   "name": "python",
   "nbconvert_exporter": "python",
   "pygments_lexer": "ipython3",
   "version": "3.9.13"
  }
 },
 "nbformat": 4,
 "nbformat_minor": 5
}
