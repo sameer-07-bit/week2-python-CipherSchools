{
 "cells": [
  {
   "cell_type": "code",
   "execution_count": null,
   "id": "6487a205",
   "metadata": {},
   "outputs": [],
   "source": [
    "import random\n",
    "wining_number= random.ranint(1,100)"
   ]
  },
  {
   "cell_type": "code",
   "execution_count": null,
   "id": "e3041177",
   "metadata": {},
   "outputs": [],
   "source": [
    "#number guessing game\n"
   ]
  },
  {
   "cell_type": "code",
   "execution_count": 4,
   "id": "c96ac0d3",
   "metadata": {},
   "outputs": [
    {
     "name": "stdout",
     "output_type": "stream",
     "text": [
      "guess a number between 1 and 100:30\n",
      "too low\n",
      "guess again:99\n",
      "too high\n",
      "guess again:43\n",
      "you win, and u guesed this number in 3 times\n"
     ]
    }
   ],
   "source": [
    "wining_number=43\n",
    "guess=1\n",
    "number=int(input(\"guess a number between 1 and 100:\"))\n",
    "game_over=False\n",
    "while not game_over:\n",
    "    if number==wining_number:\n",
    "        print(f\"you win, and u guesed this number in {guess} times\")\n",
    "        game_over=True\n",
    "    else:\n",
    "        if number <wining_number:\n",
    "            print(\"too low\")\n",
    "            guess +=1\n",
    "            number=int(input(\"guess again:\"))\n",
    "        else:\n",
    "            print(\"too high\")\n",
    "            guess +=1\n",
    "            number=int(input(\"guess again:\"))\n",
    "        \n",
    "    \n"
   ]
  },
  {
   "cell_type": "code",
   "execution_count": 5,
   "id": "8f5b27dd",
   "metadata": {},
   "outputs": [
    {
     "name": "stdout",
     "output_type": "stream",
     "text": [
      "guess a number between 1 and 100:2\n",
      "too low\n",
      "guess again:92\n",
      "too high\n",
      "guess again:27\n",
      "too low\n",
      "guess again:26\n",
      "too low\n",
      "guess again:50\n",
      "too low\n",
      "guess again:72\n",
      "too high\n",
      "guess again:2\n",
      "too low\n",
      "guess again:42\n",
      "too low\n",
      "guess again:80\n",
      "too high\n",
      "guess again:67\n",
      "too high\n",
      "guess again:60\n",
      "too low\n",
      "guess again:61\n",
      "too low\n",
      "guess again:62\n",
      "too low\n",
      "guess again:63\n",
      "you win, and u guesed this number in 14 times\n"
     ]
    }
   ],
   "source": [
    "import random\n",
    "wining_number=random.randint(1,100)\n",
    "guess=1\n",
    "number=int(input(\"guess a number between 1 and 100:\"))\n",
    "game_over=False\n",
    "while not game_over:\n",
    "    if number==wining_number:\n",
    "        print(f\"you win, and u guesed this number in {guess} times\")\n",
    "        game_over=True\n",
    "    else:\n",
    "        if number <wining_number:\n",
    "            print(\"too low\")\n",
    "            guess +=1\n",
    "            number=int(input(\"guess again:\"))\n",
    "        else:\n",
    "            print(\"too high\")\n",
    "            guess +=1\n",
    "            number=int(input(\"guess again:\"))\n",
    "        "
   ]
  },
  {
   "cell_type": "code",
   "execution_count": null,
   "id": "dbda43fb",
   "metadata": {},
   "outputs": [],
   "source": []
  },
  {
   "cell_type": "code",
   "execution_count": null,
   "id": "4b8fc325",
   "metadata": {},
   "outputs": [],
   "source": []
  },
  {
   "cell_type": "code",
   "execution_count": null,
   "id": "d0e715d6",
   "metadata": {},
   "outputs": [],
   "source": []
  },
  {
   "cell_type": "code",
   "execution_count": null,
   "id": "dea569f2",
   "metadata": {},
   "outputs": [],
   "source": []
  }
 ],
 "metadata": {
  "kernelspec": {
   "display_name": "Python 3 (ipykernel)",
   "language": "python",
   "name": "python3"
  },
  "language_info": {
   "codemirror_mode": {
    "name": "ipython",
    "version": 3
   },
   "file_extension": ".py",
   "mimetype": "text/x-python",
   "name": "python",
   "nbconvert_exporter": "python",
   "pygments_lexer": "ipython3",
   "version": "3.9.13"
  }
 },
 "nbformat": 4,
 "nbformat_minor": 5
}
