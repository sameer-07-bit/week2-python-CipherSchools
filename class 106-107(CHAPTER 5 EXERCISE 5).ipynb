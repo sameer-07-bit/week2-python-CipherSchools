{
 "cells": [
  {
   "cell_type": "code",
   "execution_count": null,
   "id": "d7a2d7db",
   "metadata": {},
   "outputs": [],
   "source": [
    "#common elements finden function \n",
    "# define a functions which take 2 lists as input and return a list\n",
    "# which contains common elements of both lists\n",
    "# example\n",
    "# input ---> [1,2,5,8], [1,2,7,6]\n",
    "# output ---> [1,2]"
   ]
  },
  {
   "cell_type": "code",
   "execution_count": null,
   "id": "8f47a8ed",
   "metadata": {},
   "outputs": [],
   "source": [
    "#LOGIC\n"
   ]
  },
  {
   "cell_type": "code",
   "execution_count": 2,
   "id": "b3f30320",
   "metadata": {},
   "outputs": [
    {
     "name": "stdout",
     "output_type": "stream",
     "text": [
      "[1, 2, 8]\n"
     ]
    }
   ],
   "source": [
    "def common_finder(l1,l2):\n",
    "    output=[]\n",
    "    for i in l1:\n",
    "        if i in l2:\n",
    "            output.append(i)\n",
    "    return output\n",
    "\n",
    "print(common_finder([1,2,5,8],[1,2,7,6,8]))"
   ]
  },
  {
   "cell_type": "code",
   "execution_count": null,
   "id": "72f5de95",
   "metadata": {},
   "outputs": [],
   "source": []
  },
  {
   "cell_type": "code",
   "execution_count": null,
   "id": "c1f4daa0",
   "metadata": {},
   "outputs": [],
   "source": []
  },
  {
   "cell_type": "code",
   "execution_count": null,
   "id": "e8d0090b",
   "metadata": {},
   "outputs": [],
   "source": []
  },
  {
   "cell_type": "code",
   "execution_count": null,
   "id": "3091817d",
   "metadata": {},
   "outputs": [],
   "source": []
  }
 ],
 "metadata": {
  "kernelspec": {
   "display_name": "Python 3 (ipykernel)",
   "language": "python",
   "name": "python3"
  },
  "language_info": {
   "codemirror_mode": {
    "name": "ipython",
    "version": 3
   },
   "file_extension": ".py",
   "mimetype": "text/x-python",
   "name": "python",
   "nbconvert_exporter": "python",
   "pygments_lexer": "ipython3",
   "version": "3.9.13"
  }
 },
 "nbformat": 4,
 "nbformat_minor": 5
}
