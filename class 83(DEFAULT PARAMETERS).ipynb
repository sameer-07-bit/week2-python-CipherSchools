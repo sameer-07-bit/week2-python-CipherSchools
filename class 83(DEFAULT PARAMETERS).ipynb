{
 "cells": [
  {
   "cell_type": "code",
   "execution_count": 2,
   "id": "160e0d9a",
   "metadata": {},
   "outputs": [
    {
     "name": "stdout",
     "output_type": "stream",
     "text": [
      "Your first name is isha\n",
      "Your last name is verma\n",
      "you age is 19\n"
     ]
    }
   ],
   "source": [
    "def user_info(first_name, last_name, age):\n",
    "    print(f\"Your first name is {first_name}\")\n",
    "    print (f\"Your last name is {last_name}\")\n",
    "    print (f\"you age is {age}\")\n",
    "user_info('isha','verma',19)"
   ]
  },
  {
   "cell_type": "code",
   "execution_count": 4,
   "id": "22ada206",
   "metadata": {},
   "outputs": [
    {
     "name": "stdout",
     "output_type": "stream",
     "text": [
      "Your first name is isha\n",
      "Your last name is verma\n",
      "you age is 23\n"
     ]
    }
   ],
   "source": [
    "def user_info(first_name, last_name, age=23):\n",
    "    print(f\"Your first name is {first_name}\")\n",
    "    print (f\"Your last name is {last_name}\")\n",
    "    print (f\"you age is {age}\")\n",
    "user_info('isha','verma')"
   ]
  },
  {
   "cell_type": "code",
   "execution_count": 7,
   "id": "c172e07c",
   "metadata": {},
   "outputs": [
    {
     "name": "stdout",
     "output_type": "stream",
     "text": [
      "Your first name is isha\n",
      "Your last name is verma\n",
      "you age is None\n"
     ]
    }
   ],
   "source": [
    "def user_info(first_name, last_name, age= None):\n",
    "    print(f\"Your first name is {first_name}\")\n",
    "    print (f\"Your last name is {last_name}\")\n",
    "    print (f\"you age is {age}\")\n",
    "user_info('isha','verma',)"
   ]
  },
  {
   "cell_type": "code",
   "execution_count": null,
   "id": "fc55acb4",
   "metadata": {},
   "outputs": [],
   "source": []
  },
  {
   "cell_type": "code",
   "execution_count": null,
   "id": "4c39218e",
   "metadata": {},
   "outputs": [],
   "source": []
  },
  {
   "cell_type": "code",
   "execution_count": null,
   "id": "43bb1fd5",
   "metadata": {},
   "outputs": [],
   "source": []
  },
  {
   "cell_type": "code",
   "execution_count": null,
   "id": "a0a6af0b",
   "metadata": {},
   "outputs": [],
   "source": []
  }
 ],
 "metadata": {
  "kernelspec": {
   "display_name": "Python 3 (ipykernel)",
   "language": "python",
   "name": "python3"
  },
  "language_info": {
   "codemirror_mode": {
    "name": "ipython",
    "version": 3
   },
   "file_extension": ".py",
   "mimetype": "text/x-python",
   "name": "python",
   "nbconvert_exporter": "python",
   "pygments_lexer": "ipython3",
   "version": "3.9.13"
  }
 },
 "nbformat": 4,
 "nbformat_minor": 5
}
