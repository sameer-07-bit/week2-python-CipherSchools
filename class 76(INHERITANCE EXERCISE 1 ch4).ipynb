{
 "cells": [
  {
   "cell_type": "code",
   "execution_count": 14,
   "id": "a1ee11ca",
   "metadata": {},
   "outputs": [
    {
     "ename": "AttributeError",
     "evalue": "'tuple' object has no attribute 'full_name'",
     "output_type": "error",
     "traceback": [
      "\u001b[1;31m---------------------------------------------------------------------------\u001b[0m",
      "\u001b[1;31mAttributeError\u001b[0m                            Traceback (most recent call last)",
      "\u001b[1;32m~\\AppData\\Local\\Temp\\ipykernel_37148\\554072936.py\u001b[0m in \u001b[0;36m<module>\u001b[1;34m\u001b[0m\n\u001b[0;32m     29\u001b[0m \u001b[0mphone\u001b[0m \u001b[1;33m=\u001b[0m\u001b[1;33m(\u001b[0m\u001b[1;34m\"nokia\"\u001b[0m\u001b[1;33m,\u001b[0m\u001b[1;34m\"1100\"\u001b[0m\u001b[1;33m,\u001b[0m\u001b[1;36m1000\u001b[0m\u001b[1;33m)\u001b[0m\u001b[1;33m\u001b[0m\u001b[1;33m\u001b[0m\u001b[0m\n\u001b[0;32m     30\u001b[0m \u001b[0msmartphone\u001b[0m\u001b[1;33m=\u001b[0m\u001b[1;33m(\u001b[0m\u001b[1;34m\"one plus\"\u001b[0m\u001b[1;33m,\u001b[0m\u001b[1;34m'5'\u001b[0m\u001b[1;33m,\u001b[0m\u001b[1;36m3000\u001b[0m\u001b[1;33m,\u001b[0m\u001b[1;34m'6GB'\u001b[0m\u001b[1;33m,\u001b[0m\u001b[1;34m'64GB'\u001b[0m\u001b[1;33m,\u001b[0m\u001b[1;34m'20MP'\u001b[0m\u001b[1;33m)\u001b[0m\u001b[1;33m\u001b[0m\u001b[1;33m\u001b[0m\u001b[0m\n\u001b[1;32m---> 31\u001b[1;33m \u001b[0mprint\u001b[0m\u001b[1;33m(\u001b[0m\u001b[0mphone\u001b[0m\u001b[1;33m.\u001b[0m\u001b[0mfull_name\u001b[0m\u001b[1;33m(\u001b[0m\u001b[1;33m)\u001b[0m\u001b[1;33m)\u001b[0m\u001b[1;33m\u001b[0m\u001b[1;33m\u001b[0m\u001b[0m\n\u001b[0m\u001b[0;32m     32\u001b[0m \u001b[0mprint\u001b[0m\u001b[1;33m(\u001b[0m\u001b[0msmartphone\u001b[0m\u001b[1;33m.\u001b[0m\u001b[0mfull_name\u001b[0m\u001b[1;33m(\u001b[0m\u001b[1;33m)\u001b[0m\u001b[1;33m)\u001b[0m\u001b[1;33m\u001b[0m\u001b[1;33m\u001b[0m\u001b[0m\n",
      "\u001b[1;31mAttributeError\u001b[0m: 'tuple' object has no attribute 'full_name'"
     ]
    }
   ],
   "source": [
    "class phone:\n",
    "    def _init_(self,brand,model_name,price):\n",
    "        self.brand=brand\n",
    "        self.model_name = model_name\n",
    "        self._price=max(price,0)\n",
    "        \n",
    "    def full_name(self):\n",
    "        return f\"{self.brand}{self.model_name}\"\n",
    "    def make_a_call(Self,number):\n",
    "        return f\"calling{number}...\"\n",
    "    \n",
    "    \n",
    "class SmartPhone(phone):\n",
    "    def _init_(self,brand,model_name,price,ram,inter_memory,rear_camera):\n",
    "        self.brand=brand\n",
    "        self.model_name = model_name\n",
    "        self._price=max(price,0)\n",
    "        self.ram=ram\n",
    "        self.internal_memory=internal_memory\n",
    "        self.rear_camera=rear_camera\n",
    "            \n",
    "        \n",
    "    def full_name(self):\n",
    "        return f\"{self.brand}{self.model_name}\"\n",
    "    def make_a_call(Self,number):\n",
    "        return f\"calling{number}...\"\n",
    "    \n",
    "    \n",
    "phone =(\"nokia\",\"1100\",1000)\n",
    "smartphone=(\"one plus\",'5',3000,'6GB','64GB','20MP')\n",
    "print(phone.full_name())\n",
    "print(smartphone.full_name())\n"
   ]
  },
  {
   "cell_type": "code",
   "execution_count": null,
   "id": "e1d80c90",
   "metadata": {},
   "outputs": [],
   "source": [
    "class SmartPhone:\n",
    "    def _init_(self,brand,model_name,price,ram,inter_memory,rear_camera):\n",
    "        self.brand=brand\n",
    "        self.model_name = model_name\n",
    "        self._price=max(price,0)\n",
    "        self.ram=ram\n",
    "        self.internal_memory=internal_memory\n",
    "        self.rear_camera=rear_camera\n",
    "            \n",
    "        \n",
    "    def full_name(self):\n",
    "        return f\"{self.brand}{self.model_name}\"\n",
    "    def make_a_call(Self,number):\n",
    "        return f\"calling{number}...\""
   ]
  },
  {
   "cell_type": "code",
   "execution_count": null,
   "id": "fccb1f38",
   "metadata": {},
   "outputs": [],
   "source": []
  },
  {
   "cell_type": "code",
   "execution_count": null,
   "id": "72e95110",
   "metadata": {},
   "outputs": [],
   "source": []
  },
  {
   "cell_type": "code",
   "execution_count": null,
   "id": "343471ad",
   "metadata": {},
   "outputs": [],
   "source": []
  },
  {
   "cell_type": "code",
   "execution_count": null,
   "id": "eb990df6",
   "metadata": {},
   "outputs": [],
   "source": []
  },
  {
   "cell_type": "code",
   "execution_count": null,
   "id": "5ed5a660",
   "metadata": {},
   "outputs": [],
   "source": []
  },
  {
   "cell_type": "code",
   "execution_count": null,
   "id": "736e5ee4",
   "metadata": {},
   "outputs": [],
   "source": []
  }
 ],
 "metadata": {
  "kernelspec": {
   "display_name": "Python 3 (ipykernel)",
   "language": "python",
   "name": "python3"
  },
  "language_info": {
   "codemirror_mode": {
    "name": "ipython",
    "version": 3
   },
   "file_extension": ".py",
   "mimetype": "text/x-python",
   "name": "python",
   "nbconvert_exporter": "python",
   "pygments_lexer": "ipython3",
   "version": "3.9.13"
  }
 },
 "nbformat": 4,
 "nbformat_minor": 5
}
