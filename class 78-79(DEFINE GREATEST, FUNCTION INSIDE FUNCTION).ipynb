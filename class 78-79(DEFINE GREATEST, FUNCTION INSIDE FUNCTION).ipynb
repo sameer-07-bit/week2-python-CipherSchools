{
 "cells": [
  {
   "cell_type": "code",
   "execution_count": 2,
   "id": "a927f91b",
   "metadata": {},
   "outputs": [
    {
     "name": "stdout",
     "output_type": "stream",
     "text": [
      "enter 1st number: 9\n",
      "enter 2nd number15\n",
      "enter 3rd number:1\n",
      "15\n"
     ]
    }
   ],
   "source": [
    "def greatest(a,b,c):\n",
    "    if a>b and a>c:\n",
    "        return a\n",
    "    elif b>a and b>c:\n",
    "        return b \n",
    "    else:\n",
    "        return c\n",
    "a=int(input(\"enter 1st number: \"))\n",
    "b=int(input(\"enter 2nd number\"))\n",
    "c=int(input(\"enter 3rd number:\"))\n",
    "print(greatest(a,b,c))"
   ]
  },
  {
   "cell_type": "code",
   "execution_count": null,
   "id": "c299ff18",
   "metadata": {},
   "outputs": [],
   "source": [
    "#function inside function\n",
    "#greater(a,b) a or b\n",
    "#greater(a or b,c) greatest"
   ]
  },
  {
   "cell_type": "code",
   "execution_count": null,
   "id": "8bd48cc9",
   "metadata": {},
   "outputs": [],
   "source": [
    "def new_greatest(a,b,c):\n",
    "    return greater(greater(a,b),c)\n",
    "print(new_greatest(1,4,10))"
   ]
  },
  {
   "cell_type": "code",
   "execution_count": null,
   "id": "813cabc6",
   "metadata": {},
   "outputs": [],
   "source": []
  },
  {
   "cell_type": "code",
   "execution_count": null,
   "id": "5ad8288c",
   "metadata": {},
   "outputs": [],
   "source": []
  },
  {
   "cell_type": "code",
   "execution_count": null,
   "id": "e7c36fac",
   "metadata": {},
   "outputs": [],
   "source": []
  },
  {
   "cell_type": "code",
   "execution_count": null,
   "id": "be04ee87",
   "metadata": {},
   "outputs": [],
   "source": []
  },
  {
   "cell_type": "code",
   "execution_count": null,
   "id": "47862925",
   "metadata": {},
   "outputs": [],
   "source": []
  }
 ],
 "metadata": {
  "kernelspec": {
   "display_name": "Python 3 (ipykernel)",
   "language": "python",
   "name": "python3"
  },
  "language_info": {
   "codemirror_mode": {
    "name": "ipython",
    "version": 3
   },
   "file_extension": ".py",
   "mimetype": "text/x-python",
   "name": "python",
   "nbconvert_exporter": "python",
   "pygments_lexer": "ipython3",
   "version": "3.9.13"
  }
 },
 "nbformat": 4,
 "nbformat_minor": 5
}
