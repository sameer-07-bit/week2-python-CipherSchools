{
 "cells": [
  {
   "cell_type": "code",
   "execution_count": null,
   "id": "884a33d6",
   "metadata": {},
   "outputs": [],
   "source": [
    "# dictionaries intro\n",
    "\n",
    "#Q why we use dictionaries?\n",
    "\n",
    "#A- Because of limitations of lists, lists are not enough to represent\n",
    "\n",
    "# real data."
   ]
  },
  {
   "cell_type": "code",
   "execution_count": null,
   "id": "6b7b8adc",
   "metadata": {},
   "outputs": [],
   "source": [
    "# Example\n",
    "\n",
    "user = ['Harshit', 24, ['coco', 'kimi no na wa'], ['awakening', 'fairy tale']]\n",
    "\n",
    "#this list contains user name, age, fav movies, fav tunes\n",
    "\n",
    "#you can do this but this is not a good way to do this."
   ]
  },
  {
   "cell_type": "code",
   "execution_count": null,
   "id": "f2573265",
   "metadata": {},
   "outputs": [],
   "source": [
    "#Q- what are dictionaries\n",
    "# A = unordered collections of data in key: value pair."
   ]
  },
  {
   "cell_type": "code",
   "execution_count": 1,
   "id": "5abe8c4c",
   "metadata": {},
   "outputs": [
    {
     "name": "stdout",
     "output_type": "stream",
     "text": [
      "{'name': 'isha', 'age': 24}\n",
      "<class 'dict'>\n"
     ]
    }
   ],
   "source": [
    "#how to create dictionaries\n",
    "user= {'name': 'isha', 'age': 24}\n",
    "print(user) \n",
    "print(type (user))"
   ]
  },
  {
   "cell_type": "code",
   "execution_count": 3,
   "id": "e7e89175",
   "metadata": {},
   "outputs": [
    {
     "name": "stdout",
     "output_type": "stream",
     "text": [
      "{'name': 'Harshit', 'age': 24}\n"
     ]
    }
   ],
   "source": [
    "#second method to create dictionary\n",
    "\n",
    "user1= dict(name= 'Harshit', age =24) \n",
    "print(user1)"
   ]
  },
  {
   "cell_type": "code",
   "execution_count": 2,
   "id": "65b094bb",
   "metadata": {},
   "outputs": [],
   "source": [
    "user= {'name': 'shivam', 'age': 24}\n",
    "#no indexing in dictionary"
   ]
  },
  {
   "cell_type": "code",
   "execution_count": 3,
   "id": "09635c13",
   "metadata": {},
   "outputs": [
    {
     "name": "stdout",
     "output_type": "stream",
     "text": [
      "shivam\n",
      "24\n"
     ]
    }
   ],
   "source": [
    "#how to access data from dictionary#\n",
    "#NOTE - There is no indexing because of ordered collections of data.\n",
    "print(user['name'])\n",
    "print(user['age'])"
   ]
  },
  {
   "cell_type": "code",
   "execution_count": null,
   "id": "6ab1795e",
   "metadata": {},
   "outputs": [],
   "source": [
    "# which type of data a dictionary can store ?\n",
    "\n",
    "# anything\n",
    "\n",
    "# numbers, strings, list, dictionary"
   ]
  },
  {
   "cell_type": "code",
   "execution_count": 10,
   "id": "bb9c8197",
   "metadata": {},
   "outputs": [
    {
     "name": "stdout",
     "output_type": "stream",
     "text": [
      "['coco', 'moana']\n"
     ]
    }
   ],
   "source": [
    "user_info={\n",
    "    'name':'isha',\n",
    "    'age':'19',\n",
    "    'fav_movies':['coco','moana'],\n",
    "    \"fav_tunes\":['until i found her']\n",
    "}\n",
    "print(user_info['fav_movies'])"
   ]
  },
  {
   "cell_type": "code",
   "execution_count": null,
   "id": "3ae50a4a",
   "metadata": {},
   "outputs": [],
   "source": [
    "users={\n",
    "    user1:{   \n",
    "    'name':'isha',\n",
    "    'age':'19',\n",
    "    'fav_movies':['coco','moana'],\n",
    "    \"fav_tunes\":['until i found her']\n",
    "        \n",
    "    }\n",
    "}"
   ]
  },
  {
   "cell_type": "code",
   "execution_count": 12,
   "id": "a2fb8a2d",
   "metadata": {},
   "outputs": [
    {
     "name": "stdout",
     "output_type": "stream",
     "text": [
      "{'name': 'isha', 'age': 19}\n"
     ]
    }
   ],
   "source": [
    "#add data in empty data\n",
    "user={}\n",
    "user['name']='isha'\n",
    "user['age']=19\n",
    "print(user)"
   ]
  },
  {
   "cell_type": "code",
   "execution_count": null,
   "id": "d2c30551",
   "metadata": {},
   "outputs": [],
   "source": []
  }
 ],
 "metadata": {
  "kernelspec": {
   "display_name": "Python 3 (ipykernel)",
   "language": "python",
   "name": "python3"
  },
  "language_info": {
   "codemirror_mode": {
    "name": "ipython",
    "version": 3
   },
   "file_extension": ".py",
   "mimetype": "text/x-python",
   "name": "python",
   "nbconvert_exporter": "python",
   "pygments_lexer": "ipython3",
   "version": "3.9.13"
  }
 },
 "nbformat": 4,
 "nbformat_minor": 5
}
