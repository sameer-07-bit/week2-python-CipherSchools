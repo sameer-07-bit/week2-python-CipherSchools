{
 "cells": [
  {
   "cell_type": "code",
   "execution_count": null,
   "id": "8a9525d1",
   "metadata": {},
   "outputs": [],
   "source": [
    "# define a function that take list of words as argument and 2 # return list with reverse of every element in that list\n",
    "\n",
    "3\n",
    "\n",
    "5\n",
    "\n",
    "# example\n",
    "\n",
    "#=['abc', 'tuv', 'xyz'] --- ['cha', 'vut', 'zyx']"
   ]
  },
  {
   "cell_type": "code",
   "execution_count": 3,
   "id": "44407aaf",
   "metadata": {},
   "outputs": [
    {
     "name": "stdout",
     "output_type": "stream",
     "text": [
      "['cba', 'yxw']\n"
     ]
    }
   ],
   "source": [
    "def reverse_l(l):\n",
    "    rlist=[]\n",
    "    for s in l:\n",
    "        rlist.append(s[::-1])\n",
    "    return rlist\n",
    "    for i in l:\n",
    "        return l[::-1]\n",
    "\n",
    "a=['abc','wxy']\n",
    "print(reverse_l(a))\n",
    "        \n",
    "      "
   ]
  },
  {
   "cell_type": "code",
   "execution_count": null,
   "id": "e1b39f3a",
   "metadata": {},
   "outputs": [],
   "source": []
  },
  {
   "cell_type": "code",
   "execution_count": null,
   "id": "599434ef",
   "metadata": {},
   "outputs": [],
   "source": []
  },
  {
   "cell_type": "code",
   "execution_count": null,
   "id": "091af310",
   "metadata": {},
   "outputs": [],
   "source": []
  }
 ],
 "metadata": {
  "kernelspec": {
   "display_name": "Python 3 (ipykernel)",
   "language": "python",
   "name": "python3"
  },
  "language_info": {
   "codemirror_mode": {
    "name": "ipython",
    "version": 3
   },
   "file_extension": ".py",
   "mimetype": "text/x-python",
   "name": "python",
   "nbconvert_exporter": "python",
   "pygments_lexer": "ipython3",
   "version": "3.9.13"
  }
 },
 "nbformat": 4,
 "nbformat_minor": 5
}
