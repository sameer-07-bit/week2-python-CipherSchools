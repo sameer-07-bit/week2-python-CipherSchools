{
 "cells": [
  {
   "cell_type": "code",
   "execution_count": null,
   "id": "d87356db",
   "metadata": {},
   "outputs": [],
   "source": [
    "# define a function which will take list as a argument and this function\n",
    "\n",
    "# will return a reversed list\n",
    "\n",
    "# examples\n",
    "\n",
    "# [1,2,3,4] ---> [4,3,2,1]\n",
    "\n",
    "# ['word1\", \"word2']['word2', 'word1']\n",
    "\n",
    "#Note you simply do this with reverse method or [::-1]\n",
    "\n",
    "# but try to do this with the help of append and return method"
   ]
  },
  {
   "cell_type": "code",
   "execution_count": 1,
   "id": "972dad22",
   "metadata": {},
   "outputs": [
    {
     "name": "stdout",
     "output_type": "stream",
     "text": [
      "None\n"
     ]
    }
   ],
   "source": [
    "def reverse_l(l):\n",
    "    return l.reverse()\n",
    "num=[1,2,3,4]\n",
    "print(reverse_l(num))"
   ]
  },
  {
   "cell_type": "code",
   "execution_count": 2,
   "id": "3c3447a8",
   "metadata": {},
   "outputs": [
    {
     "name": "stdout",
     "output_type": "stream",
     "text": [
      "[4, 3, 2, 1]\n"
     ]
    }
   ],
   "source": [
    "def reverse_l(l):\n",
    "    l.reverse()\n",
    "    return l\n",
    "num=[1,2,3,4]\n",
    "print(reverse_l(num))"
   ]
  },
  {
   "cell_type": "code",
   "execution_count": 3,
   "id": "3022f672",
   "metadata": {},
   "outputs": [
    {
     "name": "stdout",
     "output_type": "stream",
     "text": [
      "[4, 3, 2, 1]\n"
     ]
    }
   ],
   "source": [
    "def reverse_l(l):\n",
    "    return l[::-1]\n",
    "num=[1,2,3,4]\n",
    "print(reverse_l(num))"
   ]
  },
  {
   "cell_type": "code",
   "execution_count": null,
   "id": "e10ffa66",
   "metadata": {},
   "outputs": [],
   "source": [
    "#append and pop method"
   ]
  },
  {
   "cell_type": "code",
   "execution_count": 5,
   "id": "519a48bb",
   "metadata": {},
   "outputs": [
    {
     "name": "stdout",
     "output_type": "stream",
     "text": [
      "4\n"
     ]
    }
   ],
   "source": [
    "num=[1,2,3,4]\n",
    "popped_items=num.pop()\n",
    "print(popped_items)"
   ]
  },
  {
   "cell_type": "code",
   "execution_count": 6,
   "id": "6b262892",
   "metadata": {},
   "outputs": [
    {
     "name": "stdout",
     "output_type": "stream",
     "text": [
      "[4, 3, 2, 1]\n"
     ]
    }
   ],
   "source": [
    "def reverse_l(l):\n",
    "    rlist=[]\n",
    "    for i in range(len(l)):\n",
    "        poped=l.pop()\n",
    "        rlist.append(poped)\n",
    "    return rlist\n",
    "num=[1,2,3,4]\n",
    "print(reverse_l(num))"
   ]
  },
  {
   "cell_type": "code",
   "execution_count": null,
   "id": "bae8f1ac",
   "metadata": {},
   "outputs": [],
   "source": []
  },
  {
   "cell_type": "code",
   "execution_count": null,
   "id": "567118cc",
   "metadata": {},
   "outputs": [],
   "source": []
  },
  {
   "cell_type": "code",
   "execution_count": null,
   "id": "7c13cd95",
   "metadata": {},
   "outputs": [],
   "source": []
  }
 ],
 "metadata": {
  "kernelspec": {
   "display_name": "Python 3 (ipykernel)",
   "language": "python",
   "name": "python3"
  },
  "language_info": {
   "codemirror_mode": {
    "name": "ipython",
    "version": 3
   },
   "file_extension": ".py",
   "mimetype": "text/x-python",
   "name": "python",
   "nbconvert_exporter": "python",
   "pygments_lexer": "ipython3",
   "version": "3.9.13"
  }
 },
 "nbformat": 4,
 "nbformat_minor": 5
}
