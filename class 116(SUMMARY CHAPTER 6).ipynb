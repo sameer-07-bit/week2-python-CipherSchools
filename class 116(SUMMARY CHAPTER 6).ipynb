{
 "cells": [
  {
   "cell_type": "code",
   "execution_count": 2,
   "id": "4507d936",
   "metadata": {},
   "outputs": [
    {
     "name": "stdout",
     "output_type": "stream",
     "text": [
      "(1, 2, 3, 4, 5, [6, 7])\n"
     ]
    }
   ],
   "source": [
    "# tuples\n",
    "\n",
    "#tuples are immutable\n",
    "\n",
    "#tuples are ordered collections of item\n",
    "\n",
    "#tuples can store any data type\n",
    "\n",
    "# you cannot change (add or delete) values from tuple once it created\n",
    "\n",
    "# but can add, delete data from list which is present inside tuples\n",
    "mixed =(1,2,3,4,5, 'six')\n",
    "#no append, no pop, no insert, no remove\n",
    "# only count and index\n",
    "#functions\n",
    "#min(), max(), len(), sum()\n",
    "\n",
    "mixed2 = (1,2,3,4,5,[6,7,8]) \n",
    "mixed2[5].pop()\n",
    "\n",
    "print(mixed2)"
   ]
  },
  {
   "cell_type": "code",
   "execution_count": null,
   "id": "d714eac0",
   "metadata": {},
   "outputs": [],
   "source": []
  },
  {
   "cell_type": "code",
   "execution_count": null,
   "id": "5332375d",
   "metadata": {},
   "outputs": [],
   "source": []
  },
  {
   "cell_type": "code",
   "execution_count": null,
   "id": "e3b16db6",
   "metadata": {},
   "outputs": [],
   "source": []
  }
 ],
 "metadata": {
  "kernelspec": {
   "display_name": "Python 3 (ipykernel)",
   "language": "python",
   "name": "python3"
  },
  "language_info": {
   "codemirror_mode": {
    "name": "ipython",
    "version": 3
   },
   "file_extension": ".py",
   "mimetype": "text/x-python",
   "name": "python",
   "nbconvert_exporter": "python",
   "pygments_lexer": "ipython3",
   "version": "3.9.13"
  }
 },
 "nbformat": 4,
 "nbformat_minor": 5
}
