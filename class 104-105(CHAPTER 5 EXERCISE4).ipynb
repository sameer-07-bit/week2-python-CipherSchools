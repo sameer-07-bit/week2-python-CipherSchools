{
 "cells": [
  {
   "cell_type": "code",
   "execution_count": null,
   "id": "7aaef831",
   "metadata": {},
   "outputs": [],
   "source": [
    "# filter odd even\n",
    " # define a function\n",
    " # input # list -> [1,2,3,4,5,6,7]\n",
    "# ouput ----> [[1,3,5,7], [2,4,6]]"
   ]
  },
  {
   "cell_type": "code",
   "execution_count": 2,
   "id": "94c4b525",
   "metadata": {},
   "outputs": [
    {
     "name": "stdout",
     "output_type": "stream",
     "text": [
      "[[1, 3, 5, 7, 9], [2, 4, 6, 8]]\n"
     ]
    }
   ],
   "source": [
    "def filter_odd_even(l):\n",
    "    odd=[]\n",
    "    even=[]\n",
    "    for i in l:\n",
    "        if i%2==0:\n",
    "            even.append(i)\n",
    "        else:\n",
    "            odd.append(i)\n",
    "    output=[odd,even]\n",
    "    return output\n",
    "nums=[1,2,3,4,5,6,7,8,9]\n",
    "print(filter_odd_even(nums))"
   ]
  },
  {
   "cell_type": "code",
   "execution_count": null,
   "id": "dde57bde",
   "metadata": {},
   "outputs": [],
   "source": []
  },
  {
   "cell_type": "code",
   "execution_count": null,
   "id": "4d444acd",
   "metadata": {},
   "outputs": [],
   "source": []
  },
  {
   "cell_type": "code",
   "execution_count": null,
   "id": "e3159686",
   "metadata": {},
   "outputs": [],
   "source": []
  },
  {
   "cell_type": "code",
   "execution_count": null,
   "id": "1b8ee2ed",
   "metadata": {},
   "outputs": [],
   "source": []
  }
 ],
 "metadata": {
  "kernelspec": {
   "display_name": "Python 3 (ipykernel)",
   "language": "python",
   "name": "python3"
  },
  "language_info": {
   "codemirror_mode": {
    "name": "ipython",
    "version": 3
   },
   "file_extension": ".py",
   "mimetype": "text/x-python",
   "name": "python",
   "nbconvert_exporter": "python",
   "pygments_lexer": "ipython3",
   "version": "3.9.13"
  }
 },
 "nbformat": 4,
 "nbformat_minor": 5
}
