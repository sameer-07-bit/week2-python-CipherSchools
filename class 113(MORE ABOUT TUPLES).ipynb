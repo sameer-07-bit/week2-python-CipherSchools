{
 "cells": [
  {
   "cell_type": "code",
   "execution_count": null,
   "id": "0804308f",
   "metadata": {},
   "outputs": [],
   "source": [
    "#looping in tuple\n",
    "# tuple with one element\n",
    "# tuple without parenthesis\n",
    "#tuple unpacking\n",
    "# list inside tuple\n",
    "# some functions that you can use with tuples"
   ]
  },
  {
   "cell_type": "code",
   "execution_count": 2,
   "id": "3470ec0d",
   "metadata": {},
   "outputs": [
    {
     "name": "stdout",
     "output_type": "stream",
     "text": [
      "1\n",
      "2\n",
      "3\n",
      "4.0\n",
      "<class 'tuple'>\n"
     ]
    }
   ],
   "source": [
    "mix=(1,2,3,4.0)\n",
    "for i in mix:\n",
    "    print(i)\n",
    "print(type(mix))"
   ]
  },
  {
   "cell_type": "code",
   "execution_count": 4,
   "id": "359143d8",
   "metadata": {},
   "outputs": [
    {
     "name": "stdout",
     "output_type": "stream",
     "text": [
      "<class 'tuple'>\n",
      "<class 'tuple'>\n"
     ]
    }
   ],
   "source": [
    "#tuple with one elememnt\n",
    "nums=(1,)\n",
    "word=('words',)\n",
    "#coma is important\n",
    "print(type(nums))\n",
    "print(type(nums))"
   ]
  },
  {
   "cell_type": "code",
   "execution_count": 5,
   "id": "71d03aa4",
   "metadata": {},
   "outputs": [
    {
     "name": "stdout",
     "output_type": "stream",
     "text": [
      "<class 'tuple'>\n"
     ]
    }
   ],
   "source": [
    "#tuple without parantheis\n",
    "guitars='isha','verma'\n",
    "print(type(guitars))"
   ]
  },
  {
   "cell_type": "code",
   "execution_count": 7,
   "id": "88e4d8a9",
   "metadata": {},
   "outputs": [
    {
     "name": "stdout",
     "output_type": "stream",
     "text": [
      "chocolate\n"
     ]
    }
   ],
   "source": [
    "#tuple unpacking\n",
    "icecream=(\"chocolate\",'vanila','strawbeery')\n",
    "icecream1,icecream2,icecream3=(icecream)\n",
    "print(icecream1)"
   ]
  },
  {
   "cell_type": "code",
   "execution_count": 9,
   "id": "6c9a56dd",
   "metadata": {},
   "outputs": [
    {
     "name": "stdout",
     "output_type": "stream",
     "text": [
      "('tomcruise', ['animal', 'we amde it'])\n"
     ]
    }
   ],
   "source": [
    "#list inside tuples\n",
    "fav=(\"tomcruise\",['animal','landscape'])\n",
    "fav[1].pop()\n",
    "fav[1].append(\"we made it\")\n",
    "print(fav)"
   ]
  },
  {
   "cell_type": "code",
   "execution_count": 10,
   "id": "f234c8ba",
   "metadata": {},
   "outputs": [
    {
     "name": "stdout",
     "output_type": "stream",
     "text": [
      "1\n",
      "4.0\n",
      "10.0\n"
     ]
    }
   ],
   "source": [
    "#min max sum\n",
    "mix=(1,2,3,4.0)\n",
    "print(min(mix))\n",
    "print(max(mix))\n",
    "print(sum(mix))"
   ]
  },
  {
   "cell_type": "code",
   "execution_count": null,
   "id": "f4d184ef",
   "metadata": {},
   "outputs": [],
   "source": []
  },
  {
   "cell_type": "code",
   "execution_count": null,
   "id": "03f7e85a",
   "metadata": {},
   "outputs": [],
   "source": []
  }
 ],
 "metadata": {
  "kernelspec": {
   "display_name": "Python 3 (ipykernel)",
   "language": "python",
   "name": "python3"
  },
  "language_info": {
   "codemirror_mode": {
    "name": "ipython",
    "version": 3
   },
   "file_extension": ".py",
   "mimetype": "text/x-python",
   "name": "python",
   "nbconvert_exporter": "python",
   "pygments_lexer": "ipython3",
   "version": "3.9.13"
  }
 },
 "nbformat": 4,
 "nbformat_minor": 5
}
