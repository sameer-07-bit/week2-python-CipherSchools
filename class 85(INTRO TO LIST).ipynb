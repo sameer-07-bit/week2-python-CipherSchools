{
 "cells": [
  {
   "cell_type": "code",
   "execution_count": 5,
   "id": "7de3822f",
   "metadata": {},
   "outputs": [
    {
     "name": "stdout",
     "output_type": "stream",
     "text": [
      "[1, 2, 3, 4]\n",
      "2\n"
     ]
    }
   ],
   "source": [
    "numbers=[1,2,3,4]\n",
    "print(numbers)\n",
    "print(numbers[1])"
   ]
  },
  {
   "cell_type": "code",
   "execution_count": 7,
   "id": "5252f57b",
   "metadata": {
    "scrolled": true
   },
   "outputs": [
    {
     "name": "stdout",
     "output_type": "stream",
     "text": [
      "['isha', 'verma']\n",
      "['isha', 'verma']\n"
     ]
    }
   ],
   "source": [
    "words=['isha','verma']\n",
    "print(words)\n",
    "print(words[:2])"
   ]
  },
  {
   "cell_type": "code",
   "execution_count": 4,
   "id": "ffe785c1",
   "metadata": {},
   "outputs": [
    {
     "name": "stdout",
     "output_type": "stream",
     "text": [
      "['isha', '1', '2.33', None]\n"
     ]
    }
   ],
   "source": [
    "mixed=['isha','1','2.33',None]\n",
    "print(mixed)"
   ]
  },
  {
   "cell_type": "code",
   "execution_count": null,
   "id": "f8fb0ede",
   "metadata": {},
   "outputs": [],
   "source": []
  }
 ],
 "metadata": {
  "kernelspec": {
   "display_name": "Python 3 (ipykernel)",
   "language": "python",
   "name": "python3"
  },
  "language_info": {
   "codemirror_mode": {
    "name": "ipython",
    "version": 3
   },
   "file_extension": ".py",
   "mimetype": "text/x-python",
   "name": "python",
   "nbconvert_exporter": "python",
   "pygments_lexer": "ipython3",
   "version": "3.9.13"
  }
 },
 "nbformat": 4,
 "nbformat_minor": 5
}
