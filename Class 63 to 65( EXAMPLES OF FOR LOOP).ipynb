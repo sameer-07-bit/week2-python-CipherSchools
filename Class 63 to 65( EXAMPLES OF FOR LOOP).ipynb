{
 "cells": [
  {
   "cell_type": "code",
   "execution_count": null,
   "id": "1dd14609",
   "metadata": {},
   "outputs": [],
   "source": [
    "#LECTURE 63"
   ]
  },
  {
   "cell_type": "code",
   "execution_count": null,
   "id": "3e1887fe",
   "metadata": {},
   "outputs": [],
   "source": [
    "#SUM FROM 1 TO 10"
   ]
  },
  {
   "cell_type": "code",
   "execution_count": 1,
   "id": "29b3a00f",
   "metadata": {},
   "outputs": [
    {
     "name": "stdout",
     "output_type": "stream",
     "text": [
      "55\n"
     ]
    }
   ],
   "source": [
    "total=0\n",
    "for i in range(1,11):\n",
    "    total+=i\n",
    "    \n",
    "print(total)"
   ]
  },
  {
   "cell_type": "code",
   "execution_count": 2,
   "id": "609b57d5",
   "metadata": {},
   "outputs": [
    {
     "name": "stdout",
     "output_type": "stream",
     "text": [
      "enter the number: 30\n",
      "465\n"
     ]
    }
   ],
   "source": [
    "n=int(input(\"enter the number: \"))\n",
    "total=0\n",
    "for i in range(1,n+1):\n",
    "    total +=i\n",
    "print(total)\n"
   ]
  },
  {
   "cell_type": "code",
   "execution_count": null,
   "id": "123a6be6",
   "metadata": {},
   "outputs": [],
   "source": [
    "#LECTURE 64"
   ]
  },
  {
   "cell_type": "code",
   "execution_count": null,
   "id": "631df1bd",
   "metadata": {},
   "outputs": [],
   "source": [
    "#ASK USER A NUMBER LIKE 1246\n",
    "#CALCULATE THE SUM OF DIGITS"
   ]
  },
  {
   "cell_type": "code",
   "execution_count": 4,
   "id": "095a4571",
   "metadata": {},
   "outputs": [
    {
     "name": "stdout",
     "output_type": "stream",
     "text": [
      "enter a number:1234\n",
      "10\n"
     ]
    }
   ],
   "source": [
    "total=0\n",
    "num=input(\"enter a number:\")\n",
    "for i in range(0,len(num)):\n",
    "    total += int(num[i])\n",
    "print(total)"
   ]
  },
  {
   "cell_type": "code",
   "execution_count": null,
   "id": "557fa509",
   "metadata": {},
   "outputs": [],
   "source": [
    "#LECTURE 65\n",
    "#ASK USER NAME AND COUNT EACH OTHER CHARACTER"
   ]
  },
  {
   "cell_type": "code",
   "execution_count": 5,
   "id": "bdda057f",
   "metadata": {},
   "outputs": [
    {
     "name": "stdout",
     "output_type": "stream",
     "text": [
      "enter your nameisha\n",
      "i:1\n",
      "s:1\n",
      "h:1\n",
      "a:1\n"
     ]
    }
   ],
   "source": [
    "name=input(\"enter your name\")\n",
    "temp=\"\"\n",
    "for i in range(0,len(name)):\n",
    "    if name[i] not in temp:\n",
    "        print(f\"{name[i]}:{name.count(name[i])}\")\n",
    "        temp +=name[i]"
   ]
  },
  {
   "cell_type": "code",
   "execution_count": null,
   "id": "b2c359ce",
   "metadata": {},
   "outputs": [],
   "source": []
  },
  {
   "cell_type": "code",
   "execution_count": null,
   "id": "cb364ad8",
   "metadata": {},
   "outputs": [],
   "source": []
  },
  {
   "cell_type": "code",
   "execution_count": null,
   "id": "a4773925",
   "metadata": {},
   "outputs": [],
   "source": []
  }
 ],
 "metadata": {
  "kernelspec": {
   "display_name": "Python 3 (ipykernel)",
   "language": "python",
   "name": "python3"
  },
  "language_info": {
   "codemirror_mode": {
    "name": "ipython",
    "version": 3
   },
   "file_extension": ".py",
   "mimetype": "text/x-python",
   "name": "python",
   "nbconvert_exporter": "python",
   "pygments_lexer": "ipython3",
   "version": "3.9.13"
  }
 },
 "nbformat": 4,
 "nbformat_minor": 5
}
