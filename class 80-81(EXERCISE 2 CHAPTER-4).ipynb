{
 "cells": [
  {
   "cell_type": "code",
   "execution_count": null,
   "id": "00d173e3",
   "metadata": {},
   "outputs": [],
   "source": [
    "#Define is_palindrome function that take one word in string as input\n",
    "\n",
    "# and return True if it is palindrome else return False\n",
    " # palindrome - word that reads same backwards as forwards\n",
    "\n",
    "# example\n",
    "\n",
    "#is_palindrome (\"madam\")\n",
    " #is_palindrome (\"naman\")-> True\n",
    "\n",
    "#is_palindrome (\"horse\")-> False\n",
    " # logic (algorithm) 15\n",
    "#step 1 -> reverse the string\n",
    "\n",
    "# step 2 -> compare reversed string with original string"
   ]
  },
  {
   "cell_type": "code",
   "execution_count": 5,
   "id": "f5e2d900",
   "metadata": {},
   "outputs": [
    {
     "name": "stdout",
     "output_type": "stream",
     "text": [
      "True\n",
      "False\n"
     ]
    }
   ],
   "source": [
    "def is_palindrom(word):\n",
    "    reversed_word=word[::-1]\n",
    "    if word==reversed_word:\n",
    "        return True\n",
    "    else:\n",
    "         return False\n",
    "        \n",
    "print(is_palindrom(\"naman\"))\n",
    "print(is_palindrom(\"horse\"))\n",
    "   \n",
    "    \n",
    "\n",
    "    "
   ]
  },
  {
   "cell_type": "code",
   "execution_count": 12,
   "id": "c51a5cee",
   "metadata": {},
   "outputs": [
    {
     "name": "stdout",
     "output_type": "stream",
     "text": [
      "True\n",
      "False\n"
     ]
    }
   ],
   "source": [
    "def is_palindrom(word):\n",
    "    if word==word[::-1]:\n",
    "        return True\n",
    "    return False\n",
    "\n",
    "print(is_palindrom(\"naman\"))\n",
    "print(is_palindrom(\"horse\"))\n",
    "       "
   ]
  },
  {
   "cell_type": "code",
   "execution_count": 16,
   "id": "2ca5ca95",
   "metadata": {},
   "outputs": [
    {
     "name": "stdout",
     "output_type": "stream",
     "text": [
      "True\n",
      "False\n"
     ]
    }
   ],
   "source": [
    "def is_palindrom(word):\n",
    "    return word==word[::-1]\n",
    "\n",
    "print(is_palindrom(\"naman\"))\n",
    "print(is_palindrom(\"horse\"))"
   ]
  },
  {
   "cell_type": "code",
   "execution_count": null,
   "id": "c4e8ca43",
   "metadata": {},
   "outputs": [],
   "source": []
  },
  {
   "cell_type": "code",
   "execution_count": null,
   "id": "7256dfe7",
   "metadata": {},
   "outputs": [],
   "source": []
  }
 ],
 "metadata": {
  "kernelspec": {
   "display_name": "Python 3 (ipykernel)",
   "language": "python",
   "name": "python3"
  },
  "language_info": {
   "codemirror_mode": {
    "name": "ipython",
    "version": 3
   },
   "file_extension": ".py",
   "mimetype": "text/x-python",
   "name": "python",
   "nbconvert_exporter": "python",
   "pygments_lexer": "ipython3",
   "version": "3.9.13"
  }
 },
 "nbformat": 4,
 "nbformat_minor": 5
}
