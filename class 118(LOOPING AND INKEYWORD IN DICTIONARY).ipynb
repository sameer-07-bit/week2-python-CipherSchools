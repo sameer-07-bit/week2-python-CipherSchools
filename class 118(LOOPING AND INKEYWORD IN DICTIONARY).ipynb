{
 "cells": [
  {
   "cell_type": "code",
   "execution_count": null,
   "id": "c30a21b2",
   "metadata": {},
   "outputs": [],
   "source": [
    "users={\n",
    "    'name':'isha',\n",
    "    'age':'19',\n",
    "    'fav_movies':['coco','moana'],\n",
    "    \"fav_tunes\":['until i found her']\n",
    "        \n",
    "    }\n"
   ]
  },
  {
   "cell_type": "code",
   "execution_count": 2,
   "id": "f9483db0",
   "metadata": {},
   "outputs": [
    {
     "name": "stdout",
     "output_type": "stream",
     "text": [
      "present\n"
     ]
    }
   ],
   "source": [
    "# check if key exist in dictionary\n",
    "users={\n",
    "    'name':'isha',\n",
    "    'age':'19',\n",
    "    'fav_movies':['coco','moana'],\n",
    "    \"fav_tunes\":['until i found her']\n",
    "        \n",
    "    }\n",
    "\n",
    "if 'name' in users:\n",
    "    print(\"present\")\n",
    "else:\n",
    "    print('not present')"
   ]
  },
  {
   "cell_type": "code",
   "execution_count": 5,
   "id": "ad2c3352",
   "metadata": {},
   "outputs": [
    {
     "name": "stdout",
     "output_type": "stream",
     "text": [
      "present\n"
     ]
    }
   ],
   "source": [
    "#check if values exist in dictionary\n",
    "users={\n",
    "    'name':'isha',\n",
    "    'age':'19',\n",
    "    'fav_movies':['coco','moana'],\n",
    "    \"fav_tunes\":['until i found her']\n",
    "        \n",
    "    }\n",
    "if 'isha' in users.values():\n",
    "    print(\"present\")\n",
    "else:\n",
    "    print('not present')"
   ]
  },
  {
   "cell_type": "code",
   "execution_count": 7,
   "id": "5eebc9bd",
   "metadata": {},
   "outputs": [
    {
     "name": "stdout",
     "output_type": "stream",
     "text": [
      "present\n"
     ]
    }
   ],
   "source": [
    "users={\n",
    "    'name':'isha',\n",
    "    'age':'19',\n",
    "    'fav_movies':['coco','moana'],\n",
    "    \"fav_tunes\":['until i found her']\n",
    "        \n",
    "    }\n",
    "if ['coco','moana'] in users.values():\n",
    "    print(\"present\")\n",
    "else:\n",
    "    print('not present')"
   ]
  },
  {
   "cell_type": "code",
   "execution_count": 9,
   "id": "9e1236d6",
   "metadata": {},
   "outputs": [
    {
     "name": "stdout",
     "output_type": "stream",
     "text": [
      "name\n",
      "age\n",
      "fav_movies\n",
      "fav_tunes\n"
     ]
    }
   ],
   "source": [
    "#loop \n",
    "users={\n",
    "    'name':'isha',\n",
    "    'age':'19',\n",
    "    'fav_movies':['coco','moana'],\n",
    "    \"fav_tunes\":['until i found her']\n",
    "        \n",
    "    }\n",
    "for i in users:\n",
    "    print(i)"
   ]
  },
  {
   "cell_type": "code",
   "execution_count": 10,
   "id": "c2b7ab6e",
   "metadata": {},
   "outputs": [
    {
     "name": "stdout",
     "output_type": "stream",
     "text": [
      "isha\n",
      "19\n",
      "['coco', 'moana']\n",
      "['until i found her']\n"
     ]
    }
   ],
   "source": [
    "users={\n",
    "    'name':'isha',\n",
    "    'age':'19',\n",
    "    'fav_movies':['coco','moana'],\n",
    "    \"fav_tunes\":['until i found her']\n",
    "        \n",
    "    }\n",
    "for i in users.values():\n",
    "    print(i)"
   ]
  },
  {
   "cell_type": "code",
   "execution_count": 12,
   "id": "bd49f787",
   "metadata": {},
   "outputs": [
    {
     "name": "stdout",
     "output_type": "stream",
     "text": [
      "dict_values(['isha', '19', ['coco', 'moana'], ['until i found her']])\n",
      "<class 'dict_values'>\n"
     ]
    }
   ],
   "source": [
    "#values method\n",
    "users={\n",
    "    'name':'isha',\n",
    "    'age':'19',\n",
    "    'fav_movies':['coco','moana'],\n",
    "    \"fav_tunes\":['until i found her']\n",
    "        \n",
    "    }\n",
    "users=users.values()\n",
    "print(users)\n",
    "print(type(users))"
   ]
  },
  {
   "cell_type": "code",
   "execution_count": 13,
   "id": "744ffc86",
   "metadata": {},
   "outputs": [
    {
     "name": "stdout",
     "output_type": "stream",
     "text": [
      "dict_keys(['name', 'age', 'fav_movies', 'fav_tunes'])\n",
      "<class 'dict_keys'>\n"
     ]
    }
   ],
   "source": [
    "#keys method\n",
    "users={\n",
    "    'name':'isha',\n",
    "    'age':'19',\n",
    "    'fav_movies':['coco','moana'],\n",
    "    \"fav_tunes\":['until i found her']\n",
    "        \n",
    "    }\n",
    "users=users.keys()\n",
    "print(users)\n",
    "print(type(users))"
   ]
  },
  {
   "cell_type": "code",
   "execution_count": 16,
   "id": "e72cebe5",
   "metadata": {},
   "outputs": [
    {
     "name": "stdout",
     "output_type": "stream",
     "text": [
      "isha\n",
      "19\n",
      "['coco', 'moana']\n",
      "['until i found her']\n"
     ]
    }
   ],
   "source": [
    "users={\n",
    "    'name':'isha',\n",
    "    'age':'19',\n",
    "    'fav_movies':['coco','moana'],\n",
    "    \"fav_tunes\":['until i found her']\n",
    "        \n",
    "    }\n",
    "for i in users:\n",
    "    print(users[i])"
   ]
  },
  {
   "cell_type": "code",
   "execution_count": 17,
   "id": "12d958b5",
   "metadata": {},
   "outputs": [
    {
     "name": "stdout",
     "output_type": "stream",
     "text": [
      "dict_items([('name', 'isha'), ('age', '19'), ('fav_movies', ['coco', 'moana']), ('fav_tunes', ['until i found her'])])\n",
      "<class 'dict_items'>\n"
     ]
    }
   ],
   "source": [
    "#items method\n",
    "users={\n",
    "    'name':'isha',\n",
    "    'age':'19',\n",
    "    'fav_movies':['coco','moana'],\n",
    "    \"fav_tunes\":['until i found her']\n",
    "        \n",
    "    }\n",
    "dic_items=users.items()\n",
    "print(dic_items)\n",
    "print(type(dic_items))\n",
    "#returning like a tuple"
   ]
  },
  {
   "cell_type": "code",
   "execution_count": 18,
   "id": "3810a283",
   "metadata": {},
   "outputs": [
    {
     "name": "stdout",
     "output_type": "stream",
     "text": [
      "key is name and value in isha\n",
      "key is age and value in 19\n",
      "key is fav_movies and value in ['coco', 'moana']\n",
      "key is fav_tunes and value in ['until i found her']\n"
     ]
    }
   ],
   "source": [
    "users={\n",
    "    'name':'isha',\n",
    "    'age':'19',\n",
    "    'fav_movies':['coco','moana'],\n",
    "    \"fav_tunes\":['until i found her']\n",
    "        \n",
    "    }\n",
    "for key,value in users.items():\n",
    "    print(f\"key is {key} and value in {value}\")"
   ]
  },
  {
   "cell_type": "code",
   "execution_count": null,
   "id": "d1247318",
   "metadata": {},
   "outputs": [],
   "source": []
  },
  {
   "cell_type": "code",
   "execution_count": null,
   "id": "96ea4b1d",
   "metadata": {},
   "outputs": [],
   "source": []
  },
  {
   "cell_type": "code",
   "execution_count": null,
   "id": "4d53213f",
   "metadata": {},
   "outputs": [],
   "source": []
  },
  {
   "cell_type": "code",
   "execution_count": null,
   "id": "548e3906",
   "metadata": {},
   "outputs": [],
   "source": []
  },
  {
   "cell_type": "code",
   "execution_count": null,
   "id": "44ce4a4d",
   "metadata": {},
   "outputs": [],
   "source": []
  },
  {
   "cell_type": "code",
   "execution_count": null,
   "id": "65c36f15",
   "metadata": {},
   "outputs": [],
   "source": []
  }
 ],
 "metadata": {
  "kernelspec": {
   "display_name": "Python 3 (ipykernel)",
   "language": "python",
   "name": "python3"
  },
  "language_info": {
   "codemirror_mode": {
    "name": "ipython",
    "version": 3
   },
   "file_extension": ".py",
   "mimetype": "text/x-python",
   "name": "python",
   "nbconvert_exporter": "python",
   "pygments_lexer": "ipython3",
   "version": "3.9.13"
  }
 },
 "nbformat": 4,
 "nbformat_minor": 5
}
