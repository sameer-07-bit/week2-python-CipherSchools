{
 "cells": [
  {
   "cell_type": "code",
   "execution_count": 1,
   "id": "540485b1",
   "metadata": {},
   "outputs": [
    {
     "name": "stdout",
     "output_type": "stream",
     "text": [
      "False\n"
     ]
    }
   ],
   "source": [
    "#list comparsion\n",
    "#== ,is\n",
    "fruits1=['orange','apple','pear']\n",
    "fruits2=['banana','kiwi','apple','banana']\n",
    "print(fruits1== fruits2)"
   ]
  },
  {
   "cell_type": "code",
   "execution_count": 3,
   "id": "c7c26e29",
   "metadata": {},
   "outputs": [
    {
     "name": "stdout",
     "output_type": "stream",
     "text": [
      "True\n"
     ]
    }
   ],
   "source": [
    "fruits1=['orange','apple','pear']\n",
    "fruits2=['orange','apple','pear']\n",
    "print(fruits1== fruits2)"
   ]
  },
  {
   "cell_type": "code",
   "execution_count": 5,
   "id": "11c328e8",
   "metadata": {},
   "outputs": [
    {
     "name": "stdout",
     "output_type": "stream",
     "text": [
      "False\n"
     ]
    }
   ],
   "source": [
    "fruits1=['orange','apple','pear']\n",
    "fruits2=['orange','apple','pear']\n",
    "print(fruits1 is fruits2)"
   ]
  },
  {
   "cell_type": "code",
   "execution_count": null,
   "id": "27afb9ef",
   "metadata": {},
   "outputs": [],
   "source": []
  },
  {
   "cell_type": "code",
   "execution_count": null,
   "id": "4ced3a1f",
   "metadata": {},
   "outputs": [],
   "source": []
  },
  {
   "cell_type": "code",
   "execution_count": null,
   "id": "87836932",
   "metadata": {},
   "outputs": [],
   "source": []
  }
 ],
 "metadata": {
  "kernelspec": {
   "display_name": "Python 3 (ipykernel)",
   "language": "python",
   "name": "python3"
  },
  "language_info": {
   "codemirror_mode": {
    "name": "ipython",
    "version": 3
   },
   "file_extension": ".py",
   "mimetype": "text/x-python",
   "name": "python",
   "nbconvert_exporter": "python",
   "pygments_lexer": "ipython3",
   "version": "3.9.13"
  }
 },
 "nbformat": 4,
 "nbformat_minor": 5
}
