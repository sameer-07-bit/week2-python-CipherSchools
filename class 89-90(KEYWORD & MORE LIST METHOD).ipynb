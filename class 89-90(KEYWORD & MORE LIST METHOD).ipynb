{
 "cells": [
  {
   "cell_type": "code",
   "execution_count": 1,
   "id": "03d342c4",
   "metadata": {},
   "outputs": [
    {
     "name": "stdout",
     "output_type": "stream",
     "text": [
      "apple is present\n"
     ]
    }
   ],
   "source": [
    "fruits=['orange','apple','pear','banana','kiwi']\n",
    "if 'apple' in fruits:\n",
    "    print(\"apple is present\")\n",
    "else:\n",
    "    print(\"not present\")"
   ]
  },
  {
   "cell_type": "code",
   "execution_count": 2,
   "id": "9a32be5c",
   "metadata": {},
   "outputs": [
    {
     "name": "stdout",
     "output_type": "stream",
     "text": [
      "1\n"
     ]
    }
   ],
   "source": [
    "#LECTURE 90 MORE LIST METHODS \n",
    "#count\n",
    "fruits=['orange','apple','pear','banana','kiwi']\n",
    "print(fruits.count(\"orange\"))"
   ]
  },
  {
   "cell_type": "code",
   "execution_count": 4,
   "id": "568e0feb",
   "metadata": {},
   "outputs": [
    {
     "name": "stdout",
     "output_type": "stream",
     "text": [
      "['apple', 'banana', 'kiwi', 'orange', 'pear']\n"
     ]
    }
   ],
   "source": [
    "#sort\n",
    "fruits=['orange','apple','pear','banana','kiwi']\n",
    "fruits.sort()\n",
    "print(fruits)"
   ]
  },
  {
   "cell_type": "code",
   "execution_count": 5,
   "id": "d2472d09",
   "metadata": {},
   "outputs": [
    {
     "name": "stdout",
     "output_type": "stream",
     "text": [
      "[1, 3, 5, 9, 10]\n"
     ]
    }
   ],
   "source": [
    "numbers=[3,5,1,9,10]\n",
    "numbers.sort()\n",
    "print(numbers)"
   ]
  },
  {
   "cell_type": "code",
   "execution_count": 6,
   "id": "acc36613",
   "metadata": {},
   "outputs": [
    {
     "name": "stdout",
     "output_type": "stream",
     "text": [
      "[1, 3, 5, 9, 10]\n"
     ]
    }
   ],
   "source": [
    "#sorted function\n",
    "numbers=[3,5,1,9,10]\n",
    "print(sorted(numbers))"
   ]
  },
  {
   "cell_type": "code",
   "execution_count": 7,
   "id": "c0de38df",
   "metadata": {},
   "outputs": [
    {
     "name": "stdout",
     "output_type": "stream",
     "text": [
      "[]\n"
     ]
    }
   ],
   "source": [
    "#clear\n",
    "numbers=[3,5,1,9,10]\n",
    "numbers.clear()\n",
    "print(numbers)\n"
   ]
  },
  {
   "cell_type": "code",
   "execution_count": 8,
   "id": "566fef7c",
   "metadata": {},
   "outputs": [
    {
     "name": "stdout",
     "output_type": "stream",
     "text": [
      "[3, 5, 1, 9, 10]\n"
     ]
    }
   ],
   "source": [
    "#copy\n",
    "numbers=[3,5,1,9,10]\n",
    "num=numbers.copy()\n",
    "print(num)\n"
   ]
  },
  {
   "cell_type": "code",
   "execution_count": null,
   "id": "0bb3515d",
   "metadata": {},
   "outputs": [],
   "source": []
  },
  {
   "cell_type": "code",
   "execution_count": null,
   "id": "28ad897d",
   "metadata": {},
   "outputs": [],
   "source": []
  },
  {
   "cell_type": "code",
   "execution_count": null,
   "id": "d0e9c99d",
   "metadata": {},
   "outputs": [],
   "source": []
  }
 ],
 "metadata": {
  "kernelspec": {
   "display_name": "Python 3 (ipykernel)",
   "language": "python",
   "name": "python3"
  },
  "language_info": {
   "codemirror_mode": {
    "name": "ipython",
    "version": 3
   },
   "file_extension": ".py",
   "mimetype": "text/x-python",
   "name": "python",
   "nbconvert_exporter": "python",
   "pygments_lexer": "ipython3",
   "version": "3.9.13"
  }
 },
 "nbformat": 4,
 "nbformat_minor": 5
}
