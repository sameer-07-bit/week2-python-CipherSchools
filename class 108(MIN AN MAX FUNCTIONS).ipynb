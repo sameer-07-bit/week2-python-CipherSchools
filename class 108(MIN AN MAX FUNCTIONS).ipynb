{
 "cells": [
  {
   "cell_type": "code",
   "execution_count": null,
   "id": "88783eb5",
   "metadata": {},
   "outputs": [],
   "source": [
    "#mix and max functions"
   ]
  },
  {
   "cell_type": "code",
   "execution_count": 1,
   "id": "65d6f25e",
   "metadata": {},
   "outputs": [
    {
     "name": "stdout",
     "output_type": "stream",
     "text": [
      "6\n"
     ]
    }
   ],
   "source": [
    "num=[6,60,62]\n",
    "print(min(num))"
   ]
  },
  {
   "cell_type": "code",
   "execution_count": 2,
   "id": "0ccbe1c7",
   "metadata": {},
   "outputs": [
    {
     "name": "stdout",
     "output_type": "stream",
     "text": [
      "60\n"
     ]
    }
   ],
   "source": [
    "num=[6,60,2]\n",
    "print(max(num))"
   ]
  },
  {
   "cell_type": "code",
   "execution_count": null,
   "id": "c037e81f",
   "metadata": {},
   "outputs": [],
   "source": [
    "#function of max minus min number in the list"
   ]
  },
  {
   "cell_type": "code",
   "execution_count": 3,
   "id": "968847ae",
   "metadata": {},
   "outputs": [
    {
     "name": "stdout",
     "output_type": "stream",
     "text": [
      "56\n"
     ]
    }
   ],
   "source": [
    "def greatest_diff(l):\n",
    "    return max(l)-min(l)\n",
    "num=[6,60,62]\n",
    "print(greatest_diff(num))"
   ]
  },
  {
   "cell_type": "code",
   "execution_count": null,
   "id": "f324d78e",
   "metadata": {},
   "outputs": [],
   "source": []
  },
  {
   "cell_type": "code",
   "execution_count": null,
   "id": "0e5b0cb8",
   "metadata": {},
   "outputs": [],
   "source": []
  },
  {
   "cell_type": "code",
   "execution_count": null,
   "id": "f27baae0",
   "metadata": {},
   "outputs": [],
   "source": []
  }
 ],
 "metadata": {
  "kernelspec": {
   "display_name": "Python 3 (ipykernel)",
   "language": "python",
   "name": "python3"
  },
  "language_info": {
   "codemirror_mode": {
    "name": "ipython",
    "version": 3
   },
   "file_extension": ".py",
   "mimetype": "text/x-python",
   "name": "python",
   "nbconvert_exporter": "python",
   "pygments_lexer": "ipython3",
   "version": "3.9.13"
  }
 },
 "nbformat": 4,
 "nbformat_minor": 5
}
