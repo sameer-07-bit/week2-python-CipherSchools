{
 "cells": [
  {
   "cell_type": "code",
   "execution_count": 1,
   "id": "84dfd7a4",
   "metadata": {},
   "outputs": [
    {
     "name": "stdout",
     "output_type": "stream",
     "text": [
      "guess a number between 1 and 100:54\n",
      "too high\n",
      "guess again:43\n",
      "you win, and u guesed this number in 2 times\n"
     ]
    }
   ],
   "source": [
    "wining_number=43\n",
    "guess=1\n",
    "number=int(input(\"guess a number between 1 and 100:\"))\n",
    "game_over=False\n",
    "while True:\n",
    "    if number==wining_number:\n",
    "        print(f\"you win, and u guesed this number in {guess} times\")\n",
    "        break\n",
    "    else:\n",
    "        if number <wining_number:\n",
    "            print(\"too low\")\n",
    "           \n",
    "        else:\n",
    "            print(\"too high\")\n",
    "            \n",
    "guess +=1\n",
    "number=int(input(\"guess again:\"))\n",
    "           "
   ]
  },
  {
   "cell_type": "code",
   "execution_count": null,
   "id": "984525c7",
   "metadata": {},
   "outputs": [],
   "source": [
    "wining_number=43\n",
    "guess=1\n",
    "number=int(input(\"guess a number between 1 and 100:\"))\n",
    "game_over=False\n",
    "while True:\n",
    "    if number==wining_number:\n",
    "        print(f\"you win, and u guesed this number in {guess} times\")\n",
    "        break\n",
    "    else:\n",
    "        if number <wining_number:\n",
    "            print(\"too low\")\n",
    "            break\n",
    "           \n",
    "        else:\n",
    "            print(\"too high\")\n",
    "            \n",
    "guess +=1\n",
    "number=int(input(\"guess again:\"))\n"
   ]
  },
  {
   "cell_type": "code",
   "execution_count": null,
   "id": "f97f5236",
   "metadata": {},
   "outputs": [],
   "source": []
  },
  {
   "cell_type": "code",
   "execution_count": null,
   "id": "cff9bebc",
   "metadata": {},
   "outputs": [],
   "source": []
  },
  {
   "cell_type": "code",
   "execution_count": null,
   "id": "2857faf9",
   "metadata": {},
   "outputs": [],
   "source": []
  }
 ],
 "metadata": {
  "kernelspec": {
   "display_name": "Python 3 (ipykernel)",
   "language": "python",
   "name": "python3"
  },
  "language_info": {
   "codemirror_mode": {
    "name": "ipython",
    "version": 3
   },
   "file_extension": ".py",
   "mimetype": "text/x-python",
   "name": "python",
   "nbconvert_exporter": "python",
   "pygments_lexer": "ipython3",
   "version": "3.9.13"
  }
 },
 "nbformat": 4,
 "nbformat_minor": 5
}
