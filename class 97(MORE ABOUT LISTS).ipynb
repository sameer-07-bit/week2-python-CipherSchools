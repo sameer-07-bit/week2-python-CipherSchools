{
 "cells": [
  {
   "cell_type": "code",
   "execution_count": null,
   "id": "ea6b80d8",
   "metadata": {},
   "outputs": [],
   "source": [
    "#GENERATE LISTS WITH RANGE FUNCTION"
   ]
  },
  {
   "cell_type": "code",
   "execution_count": 1,
   "id": "b91917d6",
   "metadata": {},
   "outputs": [
    {
     "name": "stdout",
     "output_type": "stream",
     "text": [
      "[1, 2, 3, 4, 5, 6, 7, 8, 9, 10]\n"
     ]
    }
   ],
   "source": [
    "num=list(range(1,11))\n",
    "print(num)"
   ]
  },
  {
   "cell_type": "code",
   "execution_count": 3,
   "id": "eef77bf7",
   "metadata": {},
   "outputs": [
    {
     "name": "stdout",
     "output_type": "stream",
     "text": [
      "[1, 2, 3, 4, 5, 6, 7, 8, 9]\n"
     ]
    }
   ],
   "source": [
    "#pop method\n",
    "num=list(range(1,11))\n",
    "num.pop()\n",
    "print(num)"
   ]
  },
  {
   "cell_type": "code",
   "execution_count": 4,
   "id": "053b730c",
   "metadata": {},
   "outputs": [
    {
     "name": "stdout",
     "output_type": "stream",
     "text": [
      "10\n"
     ]
    }
   ],
   "source": [
    "num=list(range(1,11))\n",
    "\n",
    "print(num.pop())"
   ]
  },
  {
   "cell_type": "code",
   "execution_count": 7,
   "id": "7017d1c0",
   "metadata": {},
   "outputs": [
    {
     "name": "stdout",
     "output_type": "stream",
     "text": [
      "0\n"
     ]
    }
   ],
   "source": [
    "#index method\n",
    "num=list(range(1,11))\n",
    "print(num.index(1))\n"
   ]
  },
  {
   "cell_type": "code",
   "execution_count": 12,
   "id": "b01a8c5b",
   "metadata": {},
   "outputs": [
    {
     "name": "stdout",
     "output_type": "stream",
     "text": [
      "9\n"
     ]
    }
   ],
   "source": [
    "num=[1, 2, 3, 4, 5, 6, 7, 8, 9,1]\n",
    "print(num.index(1,3))"
   ]
  },
  {
   "cell_type": "code",
   "execution_count": 14,
   "id": "cff9b5a0",
   "metadata": {},
   "outputs": [
    {
     "name": "stdout",
     "output_type": "stream",
     "text": [
      "[-1, -2, -3, -4, -5, -6, -7, -8, -9, -10]\n"
     ]
    }
   ],
   "source": [
    "num=[1, 2, 3, 4, 5, 6, 7, 8, 9,10]\n",
    "def negative_list(l):\n",
    "    negative=[]\n",
    "    for i in l:\n",
    "        negative.append(-i)\n",
    "    return negative\n",
    "print(negative_list(num))"
   ]
  },
  {
   "cell_type": "code",
   "execution_count": null,
   "id": "6bdcc722",
   "metadata": {},
   "outputs": [],
   "source": []
  },
  {
   "cell_type": "code",
   "execution_count": null,
   "id": "3f0bd187",
   "metadata": {},
   "outputs": [],
   "source": []
  }
 ],
 "metadata": {
  "kernelspec": {
   "display_name": "Python 3 (ipykernel)",
   "language": "python",
   "name": "python3"
  },
  "language_info": {
   "codemirror_mode": {
    "name": "ipython",
    "version": 3
   },
   "file_extension": ".py",
   "mimetype": "text/x-python",
   "name": "python",
   "nbconvert_exporter": "python",
   "pygments_lexer": "ipython3",
   "version": "3.9.13"
  }
 },
 "nbformat": 4,
 "nbformat_minor": 5
}
