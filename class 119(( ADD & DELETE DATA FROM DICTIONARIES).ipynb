{
 "cells": [
  {
   "cell_type": "code",
   "execution_count": 1,
   "id": "075fa598",
   "metadata": {},
   "outputs": [
    {
     "name": "stdout",
     "output_type": "stream",
     "text": [
      "{'name': 'isha', 'age': '19', 'fav_movies': ['coco', 'moana'], 'fav_tunes': ['until i found her'], 'fav_songs': ['song1', 'song2']}\n"
     ]
    }
   ],
   "source": [
    "users={\n",
    "    'name':'isha',\n",
    "    'age':'19',\n",
    "    'fav_movies':['coco','moana'],\n",
    "    \"fav_tunes\":['until i found her']\n",
    "}\n",
    "# how to add data\n",
    "users['fav_songs']=['song1','song2']\n",
    "print(users)"
   ]
  },
  {
   "cell_type": "code",
   "execution_count": 10,
   "id": "a0684741",
   "metadata": {},
   "outputs": [
    {
     "name": "stdout",
     "output_type": "stream",
     "text": [
      "popped item is ['until i found her']\n",
      "{'name': 'isha', 'age': '19', 'fav_movies': ['coco', 'moana']}\n",
      "<class 'dict'>\n"
     ]
    }
   ],
   "source": [
    "#pop method\n",
    "users={\n",
    "    'name':'isha',\n",
    "    'age':'19',\n",
    "    'fav_movies':['coco','moana'],\n",
    "    \"fav_tunes\":['until i found her']\n",
    "        \n",
    "    }\n",
    "popped_items=users.pop(\"fav_tunes\")\n",
    "print(f'popped item is {popped_items}')\n",
    "print(users)\n",
    "print(type(users))"
   ]
  },
  {
   "cell_type": "code",
   "execution_count": 9,
   "id": "6dbea9f1",
   "metadata": {},
   "outputs": [
    {
     "name": "stdout",
     "output_type": "stream",
     "text": [
      "{'name': 'isha', 'age': '19', 'fav_movies': ['coco', 'moana']}\n",
      "('fav_tunes', ['until i found her'])\n",
      "<class 'dict'>\n"
     ]
    }
   ],
   "source": [
    "#pop item\n",
    "users={\n",
    "    'name':'isha',\n",
    "    'age':'19',\n",
    "    'fav_movies':['coco','moana'],\n",
    "    \"fav_tunes\":['until i found her']\n",
    "        \n",
    "    }\n",
    "pop_item=users.popitem()\n",
    "print(users)\n",
    "print(pop_item)\n",
    "print(type(users))\n"
   ]
  },
  {
   "cell_type": "code",
   "execution_count": null,
   "id": "2deeee88",
   "metadata": {},
   "outputs": [],
   "source": []
  },
  {
   "cell_type": "code",
   "execution_count": null,
   "id": "a0a45ca4",
   "metadata": {},
   "outputs": [],
   "source": []
  },
  {
   "cell_type": "code",
   "execution_count": null,
   "id": "93e778c7",
   "metadata": {},
   "outputs": [],
   "source": []
  },
  {
   "cell_type": "code",
   "execution_count": null,
   "id": "f7f3e599",
   "metadata": {},
   "outputs": [],
   "source": []
  }
 ],
 "metadata": {
  "kernelspec": {
   "display_name": "Python 3 (ipykernel)",
   "language": "python",
   "name": "python3"
  },
  "language_info": {
   "codemirror_mode": {
    "name": "ipython",
    "version": 3
   },
   "file_extension": ".py",
   "mimetype": "text/x-python",
   "name": "python",
   "nbconvert_exporter": "python",
   "pygments_lexer": "ipython3",
   "version": "3.9.13"
  }
 },
 "nbformat": 4,
 "nbformat_minor": 5
}
