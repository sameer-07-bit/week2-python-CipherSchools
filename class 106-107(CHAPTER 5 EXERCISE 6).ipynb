{
 "cells": [
  {
   "cell_type": "code",
   "execution_count": null,
   "id": "496ec443",
   "metadata": {},
   "outputs": [],
   "source": [
    "#FUNCTION\n",
    "#[1,2,3,[1,2]],INPUT\n",
    "#RETURN (HOW MANY LIST ARE IN THE LIST)\n",
    "#OUTPUT 1 \n"
   ]
  },
  {
   "cell_type": "code",
   "execution_count": 1,
   "id": "6948604b",
   "metadata": {},
   "outputs": [
    {
     "name": "stdout",
     "output_type": "stream",
     "text": [
      "1\n"
     ]
    }
   ],
   "source": [
    "def sublist_counter(l):\n",
    "    count=0\n",
    "    for i in l:\n",
    "        if type(i)==list:\n",
    "            count+=1\n",
    "    return count\n",
    "mix=[1,2,3,[1,2]]\n",
    "print(sublist_counter(mix))"
   ]
  },
  {
   "cell_type": "code",
   "execution_count": null,
   "id": "3bfc1f27",
   "metadata": {},
   "outputs": [],
   "source": []
  },
  {
   "cell_type": "code",
   "execution_count": null,
   "id": "5ab95a66",
   "metadata": {},
   "outputs": [],
   "source": []
  },
  {
   "cell_type": "code",
   "execution_count": null,
   "id": "2771911b",
   "metadata": {},
   "outputs": [],
   "source": []
  },
  {
   "cell_type": "code",
   "execution_count": null,
   "id": "ca13b029",
   "metadata": {},
   "outputs": [],
   "source": []
  },
  {
   "cell_type": "code",
   "execution_count": null,
   "id": "1fbaab41",
   "metadata": {},
   "outputs": [],
   "source": []
  }
 ],
 "metadata": {
  "kernelspec": {
   "display_name": "Python 3 (ipykernel)",
   "language": "python",
   "name": "python3"
  },
  "language_info": {
   "codemirror_mode": {
    "name": "ipython",
    "version": 3
   },
   "file_extension": ".py",
   "mimetype": "text/x-python",
   "name": "python",
   "nbconvert_exporter": "python",
   "pygments_lexer": "ipython3",
   "version": "3.9.13"
  }
 },
 "nbformat": 4,
 "nbformat_minor": 5
}
